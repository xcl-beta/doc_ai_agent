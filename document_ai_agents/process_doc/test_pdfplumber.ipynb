{
 "cells": [
  {
   "cell_type": "code",
   "execution_count": 1,
   "id": "d8200a34",
   "metadata": {},
   "outputs": [
    {
     "name": "stdout",
     "output_type": "stream",
     "text": [
      "{'matrix': (11.9952, 0.0, 0.0, 12.0, 207.2003, 773.04), 'fontname': 'Times-Roman', 'adv': 0.25, 'upright': True, 'x0': 207.2003, 'y0': 770.4359999999999, 'x1': 210.1991, 'y1': 782.4359999999999, 'width': 2.9987999999999886, 'height': 12.0, 'size': 12.0, 'mcid': None, 'tag': None, 'object_type': 'char', 'page_number': 1, 'ncs': 'DeviceRGB', 'text': ' ', 'stroking_color': (0,), 'non_stroking_color': (0.0, 0.0, 0.0), 'top': 59.56400000000008, 'bottom': 71.56400000000008, 'doctop': 59.56400000000008}\n"
     ]
    }
   ],
   "source": [
    "import pdfplumber\n",
    "\n",
    "with pdfplumber.open(\"/home/lixc/Documents/dl/files/VECTOR ABS Users Manual.pdf\") as pdf:\n",
    "    first_page = pdf.pages[0]\n",
    "    print(first_page.chars[0])"
   ]
  }
 ],
 "metadata": {
  "kernelspec": {
   "display_name": "gemini_ai",
   "language": "python",
   "name": "python3"
  },
  "language_info": {
   "codemirror_mode": {
    "name": "ipython",
    "version": 3
   },
   "file_extension": ".py",
   "mimetype": "text/x-python",
   "name": "python",
   "nbconvert_exporter": "python",
   "pygments_lexer": "ipython3",
   "version": "3.12.3"
  }
 },
 "nbformat": 4,
 "nbformat_minor": 5
}
